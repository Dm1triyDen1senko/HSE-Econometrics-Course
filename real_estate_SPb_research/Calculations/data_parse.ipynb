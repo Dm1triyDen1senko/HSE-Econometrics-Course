{
 "cells": [
  {
   "cell_type": "code",
   "execution_count": null,
   "id": "b5ff33c4",
   "metadata": {},
   "outputs": [],
   "source": [
    "!pip install cianparser"
   ]
  },
  {
   "cell_type": "code",
   "execution_count": 1,
   "id": "297dbe55-60cf-42b0-8255-3b0560eae4ad",
   "metadata": {},
   "outputs": [
    {
     "name": "stderr",
     "output_type": "stream",
     "text": [
      "/Users/dmitriy_den/Library/Python/3.9/lib/python/site-packages/urllib3/__init__.py:35: NotOpenSSLWarning: urllib3 v2 only supports OpenSSL 1.1.1+, currently the 'ssl' module is compiled with 'LibreSSL 2.8.3'. See: https://github.com/urllib3/urllib3/issues/3020\n",
      "  warnings.warn(\n"
     ]
    },
    {
     "name": "stdout",
     "output_type": "stream",
     "text": [
      "\n",
      "                              Preparing to collect information from pages..\n",
      "The absolute path to the file: \n",
      "/Users/dmitriy_den/Desktop/metrica_HW2/cian_flat_sale_1_53_sankt-peterburg_13_Apr_2025_14_18_50_607790.csv \n",
      "\n",
      "The page from which the collection of information begins: \n",
      " https://cian.ru/cat.php?engine_version=2&p=1&with_neighbors=0&region=2&deal_type=sale&offer_type=flat&room1=1&room2=1&room3=1\n",
      "\n",
      "Collecting information from pages with list of offers\n",
      " 1 | 1 page with list: [=>=>=>=>=>=>=>=>=>=>=>=>=>=>=>=>=>=>=>=>=>=>=>=>=>=>=>=>] 100% | Count of all parsed: 28. Progress ratio: 2 %. Average price: 80 843 351 rub\n",
      " 2 | 2 page with list: [=>=>=>=>=>=>=>=>=>=>=>=>=>=>=>=>=>=>=>=>=>=>=>=>=>=>=>=>] 100% | Count of all parsed: 50. Progress ratio: 4 %. Average price: 92 743 330 rub\n",
      " 3 | 3 page with list: [=>=>=>=>=>=>=>=>=>=>=>=>=>=>=>=>=>=>=>=>=>=>=>=>=>=>=>=>] 100% | Count of all parsed: 77. Progress ratio: 6 %. Average price: 103 922 140 rub\n",
      " 4 | 4 page with list: [=>=>=>=>=>=>=>=>=>=>=>=>=>=>=>=>=>=>=>=>=>=>=>=>=>=>=>=>] 100% | Count of all parsed: 104. Progress ratio: 8 %. Average price: 109 994 278 rub\n",
      " 5 | 5 page with list: [=>=>=>=>=>=>=>=>=>=>=>=>=>=>=>=>=>=>=>=>=>=>=>=>=>=>=>=>] 100% | Count of all parsed: 131. Progress ratio: 9 %. Average price: 118 632 943 rub\n",
      " 6 | 6 page with list: [=>=>=>=>=>=>=>=>=>=>=>=>=>=>=>=>=>=>=>=>=>=>=>=>=>=>=>=>] 100% | Count of all parsed: 155. Progress ratio: 11 %. Average price: 123 576 625 rub\n",
      " 7 | 7 page with list: [=>=>=>=>=>=>=>=>=>=>=>=>=>=>=>=>=>=>=>=>=>=>=>=>=>=>=>=>] 100% | Count of all parsed: 177. Progress ratio: 12 %. Average price: 125 659 467 rub\n",
      " 8 | 8 page with list: [=>=>=>=>=>=>=>=>=>=>=>=>=>=>=>=>=>=>=>=>=>=>=>=>=>=>=>=>] 100% | Count of all parsed: 192. Progress ratio: 13 %. Average price: 127 587 277 rub\n",
      " 9 | 9 page with list: [=>=>=>=>=>=>=>=>=>=>=>=>=>=>=>=>=>=>=>=>=>=>=>=>=>=>=>=>] 100% | Count of all parsed: 218. Progress ratio: 15 %. Average price: 136 050 589 rub\n",
      " 10 | 10 page with list: [=>=>=>=>=>=>=>=>=>=>=>=>=>=>=>=>=>=>=>=>=>=>=>=>=>=>=>=>] 100% | Count of all parsed: 243. Progress ratio: 17 %. Average price: 137 766 179 rub\n",
      " 11 | 11 page with list: [=>=>=>=>=>=>=>=>=>=>=>=>=>=>=>=>=>=>=>=>=>=>=>=>=>=>=>=>] 100% | Count of all parsed: 260. Progress ratio: 18 %. Average price: 139 538 428 rub\n",
      " 12 | 12 page with list: [=>=>=>=>=>=>=>=>=>=>=>=>=>=>=>=>=>=>=>=>=>=>=>=>=>=>=>=>] 100% | Count of all parsed: 282. Progress ratio: 20 %. Average price: 141 521 746 rub\n",
      " 13 | 13 page with list: [=>=>=>=>=>=>=>=>=>=>=>=>=>=>=>=>=>=>=>=>=>=>=>=>=>=>=>=>] 100% | Count of all parsed: 300. Progress ratio: 21 %. Average price: 142 711 986 rub\n",
      " 14 | 14 page with list: [=>=>=>=>=>=>=>=>=>=>=>=>=>=>=>=>=>=>=>=>=>=>=>=>=>=>=>=>] 100% | Count of all parsed: 323. Progress ratio: 22 %. Average price: 143 825 273 rub\n",
      " 15 | 15 page with list: [=>=>=>=>=>=>=>=>=>=>=>=>=>=>=>=>=>=>=>=>=>=>=>=>=>=>=>=>] 100% | Count of all parsed: 349. Progress ratio: 24 %. Average price: 145 371 916 rub\n",
      " 16 | 16 page with list: [=>=>=>=>=>=>=>=>=>=>=>=>=>=>=>=>=>=>=>=>=>=>=>=>=>=>=>=>] 100% | Count of all parsed: 374. Progress ratio: 26 %. Average price: 148 923 811 rub\n",
      " 17 | 17 page with list: [=>=>=>=>=>=>=>=>=>=>=>=>=>=>=>=>=>=>=>=>=>=>=>=>=>=>=>=>] 100% | Count of all parsed: 402. Progress ratio: 28 %. Average price: 152 232 934 rub\n",
      " 18 | 18 page with list: [=>=>=>=>=>=>=>=>=>=>=>=>=>=>=>=>=>=>=>=>=>=>=>=>=>=>=>=>] 100% | Count of all parsed: 430. Progress ratio: 29 %. Average price: 152 581 873 rub\n",
      " 19 | 19 page with list: [=>=>=>=>=>=>=>=>=>=>=>=>=>=>=>=>=>=>=>=>=>=>=>=>=>=>=>=>] 100% | Count of all parsed: 457. Progress ratio: 31 %. Average price: 152 919 558 rub\n",
      " 20 | 20 page with list: [=>=>=>=>=>=>=>=>=>=>=>=>=>=>=>=>=>=>=>=>=>=>=>=>=>=>=>=>] 100% | Count of all parsed: 485. Progress ratio: 33 %. Average price: 153 267 410 rub\n",
      " 21 | 21 page with list: [=>=>=>=>=>=>=>=>=>=>=>=>=>=>=>=>=>=>=>=>=>=>=>=>=>=>=>=>] 100% | Count of all parsed: 512. Progress ratio: 35 %. Average price: 153 597 785 rub\n",
      " 22 | 22 page with list: [=>=>=>=>=>=>=>=>=>=>=>=>=>=>=>=>=>=>=>=>=>=>=>=>=>=>=>=>] 100% | Count of all parsed: 539. Progress ratio: 37 %. Average price: 153 922 253 rub\n",
      " 23 | 23 page with list: [=>=>=>=>=>=>=>=>=>=>=>=>=>=>=>=>=>=>=>=>=>=>=>=>=>=>=>=>] 100% | Count of all parsed: 567. Progress ratio: 39 %. Average price: 154 253 583 rub\n",
      " 24 | 24 page with list: [=>=>=>=>=>=>=>=>=>=>=>=>=>=>=>=>=>=>=>=>=>=>=>=>=>=>=>=>] 100% | Count of all parsed: 594. Progress ratio: 41 %. Average price: 154 567 747 rub\n",
      " 25 | 25 page with list: [=>=>=>=>=>=>=>=>=>=>=>=>=>=>=>=>=>=>=>=>=>=>=>=>=>=>=>=>] 100% | Count of all parsed: 622. Progress ratio: 42 %. Average price: 154 884 590 rub\n",
      " 26 | 26 page with list: [=>=>=>=>=>=>=>=>=>=>=>=>=>=>=>=>=>=>=>=>=>=>=>=>=>=>=>=>] 100% | Count of all parsed: 650. Progress ratio: 44 %. Average price: 155 192 381 rub\n",
      " 27 | 27 page with list: [=>=>=>=>=>=>=>=>=>=>=>=>=>=>=>=>=>=>=>=>=>=>=>=>=>=>=>=>] 100% | Count of all parsed: 678. Progress ratio: 46 %. Average price: 155 493 113 rub\n",
      " 28 | 28 page with list: [=>=>=>=>=>=>=>=>=>=>=>=>=>=>=>=>=>=>=>=>=>=>=>=>=>=>=>=>] 100% | Count of all parsed: 706. Progress ratio: 48 %. Average price: 155 785 444 rub\n",
      " 29 | 29 page with list: [=>=>=>=>=>=>=>=>=>=>=>=>=>=>=>=>=>=>=>=>=>=>=>=>=>=>=>=>] 100% | Count of all parsed: 732. Progress ratio: 50 %. Average price: 156 050 492 rub\n",
      " 30 | 30 page with list: [=>=>=>=>=>=>=>=>=>=>=>=>=>=>=>=>=>=>=>=>=>=>=>=>=>=>=>=>] 100% | Count of all parsed: 760. Progress ratio: 52 %. Average price: 156 329 408 rub\n",
      " 31 | 31 page with list: [=>=>=>=>=>=>=>=>=>=>=>=>=>=>=>=>=>=>=>=>=>=>=>=>=>=>=>=>] 100% | Count of all parsed: 788. Progress ratio: 54 %. Average price: 156 602 279 rub\n",
      " 32 | 32 page with list: [=>=>=>=>=>=>=>=>=>=>=>=>=>=>=>=>=>=>=>=>=>=>=>=>=>=>=>=>] 100% | Count of all parsed: 816. Progress ratio: 55 %. Average price: 156 869 861 rub\n",
      " 33 | 33 page with list: [=>=>=>=>=>=>=>=>=>=>=>=>=>=>=>=>=>=>=>=>=>=>=>=>=>=>=>=>] 100% | Count of all parsed: 844. Progress ratio: 57 %. Average price: 157 131 563 rub\n",
      " 34 | 34 page with list: [=>=>=>=>=>=>=>=>=>=>=>=>=>=>=>=>=>=>=>=>=>=>=>=>=>=>=>=>] 100% | Count of all parsed: 871. Progress ratio: 59 %. Average price: 157 378 319 rub\n",
      " 35 | 35 page with list: [=>=>=>=>=>=>=>=>=>=>=>=>=>=>=>=>=>=>=>=>=>=>=>=>=>=>=>=>] 100% | Count of all parsed: 899. Progress ratio: 61 %. Average price: 157 629 421 rub\n",
      " 36 | 36 page with list: [=>=>=>=>=>=>=>=>=>=>=>=>=>=>=>=>=>=>=>=>=>=>=>=>=>=>=>=>] 100% | Count of all parsed: 927. Progress ratio: 63 %. Average price: 157 877 021 rub\n",
      " 37 | 37 page with list: [=>=>=>=>=>=>=>=>=>=>=>=>=>=>=>=>=>=>=>=>=>=>=>=>=>=>=>=>] 100% | Count of all parsed: 954. Progress ratio: 65 %. Average price: 158 111 466 rub\n",
      " 38 | 38 page with list: [=>=>=>=>=>=>=>=>=>=>=>=>=>=>=>=>=>=>=>=>=>=>=>=>=>=>=>=>] 100% | Count of all parsed: 982. Progress ratio: 67 %. Average price: 158 350 828 rub\n",
      " 39 | 39 page with list: [=>=>=>=>=>=>=>=>=>=>=>=>=>=>=>=>=>=>=>=>=>=>=>=>=>=>=>=>] 100% | Count of all parsed: 1008. Progress ratio: 68 %. Average price: 158 568 967 rub\n",
      " 40 | 40 page with list: [=>=>=>=>=>=>=>=>=>=>=>=>=>=>=>=>=>=>=>=>=>=>=>=>=>=>=>=>] 100% | Count of all parsed: 1036. Progress ratio: 70 %. Average price: 158 800 472 rub\n",
      " 41 | 41 page with list: [=>=>=>=>=>=>=>=>=>=>=>=>=>=>=>=>=>=>=>=>=>=>=>=>=>=>=>=>] 100% | Count of all parsed: 1064. Progress ratio: 72 %. Average price: 159 028 294 rub\n",
      " 42 | 42 page with list: [=>=>=>=>=>=>=>=>=>=>=>=>=>=>=>=>=>=>=>=>=>=>=>=>=>=>=>=>] 100% | Count of all parsed: 1092. Progress ratio: 74 %. Average price: 159 252 893 rub\n",
      " 43 | 43 page with list: [=>=>                                                    ] 8% | Count of all parsed: 1094. Progress ratio: 74 %. Average price: 159 268 861 rub\n",
      " 43 | 43 page with list: [=>=>=>=>=>=>=>=>=>=>=>=>=>=>                            ] 50% | Count of all parsed: 1106. Progress ratio: 75 %. Average price: 159 363 638 rub\n",
      "\n",
      "Exception: ('Connection aborted.', TimeoutError(60, 'Operation timed out'))\n",
      "The collection of information from the pages with ending parse on 43 page...\n",
      "\n",
      "\n",
      " 44 | 44 page with list: [=>=>=>=>=>=>=>=>=>=>=>=>=>=>=>=>=>=>=>=>=>=>=>=>=>=>=>=>] 100% | Count of all parsed: 1133. Progress ratio: 77 %. Average price: 159 576 361 rub\n",
      " 45 | 45 page with list: [=>=>=>=>=>=>=>=>=>=>=>=>=>=>=>=>=>=>=>=>=>=>=>=>=>=>=>=>] 100% | Count of all parsed: 1161. Progress ratio: 79 %. Average price: 159 794 312 rub\n",
      " 46 | 46 page with list: [=>=>=>=>=>=>=>=>=>=>=>=>=>=>=>=>=>=>=>=>=>=>=>=>=>=>=>=>] 100% | Count of all parsed: 1188. Progress ratio: 81 %. Average price: 160 001 934 rub\n",
      " 47 | 47 page with list: [=>=>=>=>=>=>=>=>=>=>=>=>=>=>=>=>=>=>=>=>=>=>=>=>=>=>=>=>] 100% | Count of all parsed: 1216. Progress ratio: 82 %. Average price: 160 214 544 rub\n",
      " 48 | 48 page with list: [=>=>=>=>=>=>=>=>=>=>=>=>=>=>=>=>=>=>=>=>=>=>=>=>=>=>=>=>] 100% | Count of all parsed: 1243. Progress ratio: 84 %. Average price: 160 417 177 rub\n",
      " 49 | 49 page with list: [=>=>=>=>=>=>=>=>=>=>=>=>=>=>=>=>=>=>=>=>=>=>=>=>=>=>=>=>] 100% | Count of all parsed: 1270. Progress ratio: 86 %. Average price: 160 618 690 rub\n",
      " 50 | 50 page with list: [=>=>=>=>=>=>=>=>=>=>=>=>=>=>=>=>=>=>=>=>=>=>=>=>=>=>=>=>] 100% | Count of all parsed: 1298. Progress ratio: 88 %. Average price: 160 826 046 rub\n",
      " 51 | 51 page with list: [=>=>=>=>=>=>=>=>=>=>=>=>=>=>=>=>=>=>=>=>=>=>=>=>=>=>=>=>] 100% | Count of all parsed: 1326. Progress ratio: 90 %. Average price: 161 031 662 rub\n",
      " 52 | 52 page with list: [=>=>=>=>=>=>=>=>=>=>=>=>=>=>=>=>=>=>=>=>=>=>=>=>=>=>=>=>] 100% | Count of all parsed: 1353. Progress ratio: 92 %. Average price: 161 228 055 rub\n",
      " 53 | 53 page with list: [=>=>=>=>=>=>=>=>=>=>=>=>=>=>=>=>=>=>=>=>=>=>=>=>=>=>=>=>] 100% | Count of all parsed: 1380. Progress ratio: 93 %. Average price: 161 423 363 rub\n",
      "\n",
      "The collection of information from the pages with list of offers is completed\n",
      "Total number of parsed offers: 1380. \n"
     ]
    }
   ],
   "source": [
    "import cianparser\n",
    "\n",
    "moscow_parser = cianparser.CianParser(location=\"Санкт-Петербург\")\n",
    "data = moscow_parser.get_flats(deal_type=\"sale\", rooms=(1, 2, 3), with_saving_csv=True, additional_settings={\"start_page\":1, \"end_page\":53}, with_extra_data=True)"
   ]
  }
 ],
 "metadata": {
  "kernelspec": {
   "display_name": "Python 3",
   "language": "python",
   "name": "python3"
  },
  "language_info": {
   "codemirror_mode": {
    "name": "ipython",
    "version": 3
   },
   "file_extension": ".py",
   "mimetype": "text/x-python",
   "name": "python",
   "nbconvert_exporter": "python",
   "pygments_lexer": "ipython3",
   "version": "3.9.6"
  }
 },
 "nbformat": 4,
 "nbformat_minor": 5
}
